{
 "cells": [
  {
   "cell_type": "code",
   "execution_count": 1,
   "source": [
    "import pandas as pd, numpy as np\n",
    "import random\n",
    "import json"
   ],
   "outputs": [],
   "metadata": {}
  },
  {
   "cell_type": "code",
   "execution_count": 2,
   "source": [
    "genders = [\"Male\", \"Female\", \"Unknown\"]\n",
    "ages = [3,4,5,6,7,8]\n",
    "n_users = 100\n",
    "start = pd.to_datetime('2020-12-01')\n",
    "end = pd.to_datetime('2020-12-30')\n",
    "random.seed(1234)"
   ],
   "outputs": [],
   "metadata": {}
  },
  {
   "cell_type": "code",
   "execution_count": 3,
   "source": [
    "users = pd.DataFrame({\"user_id\" : np.arange(1000, 1000+n_users)})"
   ],
   "outputs": [],
   "metadata": {}
  },
  {
   "cell_type": "code",
   "execution_count": 4,
   "source": [
    "users[\"gender\"] = random.choices(genders, k=n_users)"
   ],
   "outputs": [],
   "metadata": {}
  },
  {
   "cell_type": "code",
   "execution_count": 5,
   "source": [
    "users[\"age\"] = random.choices(ages, k=n_users)"
   ],
   "outputs": [],
   "metadata": {}
  },
  {
   "cell_type": "code",
   "execution_count": 6,
   "source": [
    "users.to_csv('users.csv')"
   ],
   "outputs": [],
   "metadata": {}
  },
  {
   "cell_type": "code",
   "execution_count": 7,
   "source": [
    "def get_lessons(subject):\n",
    "    with open('../../assets/courses/'+subject+'/'+subject+'/res/course.json') as f:\n",
    "        subject_json = json.load(f)\n",
    "    lessons = []\n",
    "    chapter_index = 0\n",
    "    lesson_index = 0\n",
    "    details = {}\n",
    "    for chapter in subject_json['chapters']:\n",
    "        if 'type' not in chapter or chapter['type'] != 'exam':\n",
    "            details[chapter_index] = lesson_index\n",
    "            chapter_index = chapter_index + 1\n",
    "            lesson_index = 0\n",
    "            for lesson in chapter['lessons']:\n",
    "                if 'type' in lesson and lesson['type'] == 'exam':\n",
    "                    lesson_index = lesson_index + 1\n",
    "                    lessons.append((chapter['id'],lesson['id'], chapter_index, lesson_index))\n",
    "    details[chapter_index] = lesson_index\n",
    "    ret_lessons = []\n",
    "    completion = 0\n",
    "    for lesson in lessons:\n",
    "        completion += 1/lessons[-1][2] * 1/details[lesson[2]]\n",
    "        ret_lessons.append((lesson[0], lesson[1], completion, lesson[3]/details[lesson[2]]))\n",
    "    return ret_lessons"
   ],
   "outputs": [],
   "metadata": {}
  },
  {
   "cell_type": "code",
   "execution_count": 8,
   "source": [
    "def random_dates(start, end, n=10):\n",
    "    start_u = start.value//10**9\n",
    "    end_u = end.value//10**9\n",
    "\n",
    "    return pd.to_datetime(np.random.randint(start_u, end_u, n), unit='s').sort_values()"
   ],
   "outputs": [],
   "metadata": {}
  },
  {
   "cell_type": "code",
   "execution_count": 9,
   "source": [
    "def random_scores(user_id, subject, lessons):\n",
    "    n_scores = random.randint(50, len(lessons))\n",
    "    random_lessons = random.sample(range(len(lessons)), k=n_scores)\n",
    "    random_lessons.sort()\n",
    "    scores = pd.DataFrame({\"user_id\" : [user_id]*n_scores})\n",
    "    scores[\"subject\"] = [subject]*n_scores\n",
    "    scores[\"chapter\"] = [i[0] for i in lessons[:n_scores]]\n",
    "    scores[\"course_completion_percentage\"] = [i[2] for i in lessons[:n_scores]]\n",
    "    scores[\"lesson\"] = [i[1] for i in lessons[:n_scores]]\n",
    "    scores[\"chapter_completion_percentage\"] = [i[3] for i in lessons[:n_scores]]\n",
    "    scores[\"score\"] = random.choices(np.arange(70, 100, 1), k=n_scores)\n",
    "    scores[\"datetime\"] = random_dates(start, end, n=n_scores)\n",
    "    return scores"
   ],
   "outputs": [],
   "metadata": {}
  },
  {
   "cell_type": "code",
   "execution_count": 10,
   "source": [
    "subjects = {\n",
    "    'en': get_lessons('en'),\n",
    "    'maths': get_lessons('maths')\n",
    "}"
   ],
   "outputs": [],
   "metadata": {}
  },
  {
   "cell_type": "code",
   "execution_count": 11,
   "source": [
    "len(subjects['en'])"
   ],
   "outputs": [
    {
     "output_type": "execute_result",
     "data": {
      "text/plain": [
       "70"
      ]
     },
     "metadata": {},
     "execution_count": 11
    }
   ],
   "metadata": {}
  },
  {
   "cell_type": "code",
   "execution_count": 12,
   "source": [
    "df = None\n",
    "for row in users.itertuples():\n",
    "    for subject in subjects.items():\n",
    "        if df is None:\n",
    "            df = random_scores(row[1], subject[0], subject[1])\n",
    "        else:\n",
    "            df = pd.concat([df, random_scores(row[1], subject[0], subject[1])])"
   ],
   "outputs": [],
   "metadata": {}
  },
  {
   "cell_type": "code",
   "execution_count": 13,
   "source": [
    "df.head()"
   ],
   "outputs": [
    {
     "output_type": "execute_result",
     "data": {
      "text/html": [
       "<div>\n",
       "<style scoped>\n",
       "    .dataframe tbody tr th:only-of-type {\n",
       "        vertical-align: middle;\n",
       "    }\n",
       "\n",
       "    .dataframe tbody tr th {\n",
       "        vertical-align: top;\n",
       "    }\n",
       "\n",
       "    .dataframe thead th {\n",
       "        text-align: right;\n",
       "    }\n",
       "</style>\n",
       "<table border=\"1\" class=\"dataframe\">\n",
       "  <thead>\n",
       "    <tr style=\"text-align: right;\">\n",
       "      <th></th>\n",
       "      <th>user_id</th>\n",
       "      <th>subject</th>\n",
       "      <th>chapter</th>\n",
       "      <th>course_completion_percentage</th>\n",
       "      <th>lesson</th>\n",
       "      <th>chapter_completion_percentage</th>\n",
       "      <th>score</th>\n",
       "      <th>datetime</th>\n",
       "    </tr>\n",
       "  </thead>\n",
       "  <tbody>\n",
       "    <tr>\n",
       "      <th>0</th>\n",
       "      <td>1000</td>\n",
       "      <td>en</td>\n",
       "      <td>en00</td>\n",
       "      <td>0.016129</td>\n",
       "      <td>ambulance</td>\n",
       "      <td>0.5</td>\n",
       "      <td>73</td>\n",
       "      <td>2020-12-01 09:33:18</td>\n",
       "    </tr>\n",
       "    <tr>\n",
       "      <th>1</th>\n",
       "      <td>1000</td>\n",
       "      <td>en</td>\n",
       "      <td>en00</td>\n",
       "      <td>0.032258</td>\n",
       "      <td>anchor</td>\n",
       "      <td>1.0</td>\n",
       "      <td>99</td>\n",
       "      <td>2020-12-01 19:20:54</td>\n",
       "    </tr>\n",
       "    <tr>\n",
       "      <th>2</th>\n",
       "      <td>1000</td>\n",
       "      <td>en</td>\n",
       "      <td>en01</td>\n",
       "      <td>0.048387</td>\n",
       "      <td>auto</td>\n",
       "      <td>0.5</td>\n",
       "      <td>86</td>\n",
       "      <td>2020-12-01 20:55:28</td>\n",
       "    </tr>\n",
       "    <tr>\n",
       "      <th>3</th>\n",
       "      <td>1000</td>\n",
       "      <td>en</td>\n",
       "      <td>en01</td>\n",
       "      <td>0.064516</td>\n",
       "      <td>pram</td>\n",
       "      <td>1.0</td>\n",
       "      <td>88</td>\n",
       "      <td>2020-12-02 02:56:58</td>\n",
       "    </tr>\n",
       "    <tr>\n",
       "      <th>4</th>\n",
       "      <td>1000</td>\n",
       "      <td>en</td>\n",
       "      <td>en02</td>\n",
       "      <td>0.080645</td>\n",
       "      <td>bag</td>\n",
       "      <td>0.5</td>\n",
       "      <td>95</td>\n",
       "      <td>2020-12-03 14:15:25</td>\n",
       "    </tr>\n",
       "  </tbody>\n",
       "</table>\n",
       "</div>"
      ],
      "text/plain": [
       "   user_id subject chapter  course_completion_percentage     lesson  \\\n",
       "0     1000      en    en00                      0.016129  ambulance   \n",
       "1     1000      en    en00                      0.032258     anchor   \n",
       "2     1000      en    en01                      0.048387       auto   \n",
       "3     1000      en    en01                      0.064516       pram   \n",
       "4     1000      en    en02                      0.080645        bag   \n",
       "\n",
       "   chapter_completion_percentage  score            datetime  \n",
       "0                            0.5     73 2020-12-01 09:33:18  \n",
       "1                            1.0     99 2020-12-01 19:20:54  \n",
       "2                            0.5     86 2020-12-01 20:55:28  \n",
       "3                            1.0     88 2020-12-02 02:56:58  \n",
       "4                            0.5     95 2020-12-03 14:15:25  "
      ]
     },
     "metadata": {},
     "execution_count": 13
    }
   ],
   "metadata": {}
  },
  {
   "cell_type": "code",
   "execution_count": 42,
   "source": [
    "df.to_csv('scores.csv')"
   ],
   "outputs": [],
   "metadata": {}
  }
 ],
 "metadata": {
  "kernelspec": {
   "name": "python3",
   "display_name": "Python 3.7.7 64-bit ('venv': venv)"
  },
  "language_info": {
   "codemirror_mode": {
    "name": "ipython",
    "version": 3
   },
   "file_extension": ".py",
   "mimetype": "text/x-python",
   "name": "python",
   "nbconvert_exporter": "python",
   "pygments_lexer": "ipython3",
   "version": "3.7.7"
  },
  "interpreter": {
   "hash": "2151d9c5cc6057aac259c5a9e449338d27bb321fd739ea9360df39a8fd958345"
  }
 },
 "nbformat": 4,
 "nbformat_minor": 4
}