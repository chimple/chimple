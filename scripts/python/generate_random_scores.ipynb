{
 "cells": [
  {
   "cell_type": "code",
   "execution_count": 1,
   "metadata": {},
   "outputs": [],
   "source": [
    "import pandas as pd, numpy as np\n",
    "import random\n",
    "import json"
   ]
  },
  {
   "cell_type": "code",
   "execution_count": 2,
   "metadata": {},
   "outputs": [],
   "source": [
    "genders = [\"Male\", \"Female\", \"Unknown\"]\n",
    "ages = [3,4,5,6,7,8]\n",
    "n_users = 100\n",
    "start = pd.to_datetime('2020-12-01')\n",
    "end = pd.to_datetime('2020-12-30')\n",
    "random.seed(1234)"
   ]
  },
  {
   "cell_type": "code",
   "execution_count": 3,
   "metadata": {},
   "outputs": [],
   "source": [
    "users = pd.DataFrame({\"user_id\" : np.arange(1000, 1000+n_users)})"
   ]
  },
  {
   "cell_type": "code",
   "execution_count": 4,
   "metadata": {},
   "outputs": [],
   "source": [
    "users[\"gender\"] = random.choices(genders, k=n_users)"
   ]
  },
  {
   "cell_type": "code",
   "execution_count": 5,
   "metadata": {},
   "outputs": [],
   "source": [
    "users[\"age\"] = random.choices(ages, k=n_users)"
   ]
  },
  {
   "cell_type": "code",
   "execution_count": 6,
   "metadata": {},
   "outputs": [],
   "source": [
    "users.to_csv('users.csv')"
   ]
  },
  {
   "cell_type": "code",
   "execution_count": 6,
   "metadata": {},
   "outputs": [],
   "source": [
    "def get_lessons(subject):\n",
    "    with open('../../assets/courses/'+subject+'/'+subject+'/res/course.json') as f:\n",
    "        subject_json = json.load(f)\n",
    "    lessons = []\n",
    "    chapter_index = 0\n",
    "    lesson_index = 0\n",
    "    details = {}\n",
    "    for chapter in subject_json['chapters']:\n",
    "        if 'type' not in chapter or chapter['type'] != 'exam':\n",
    "            details[chapter_index] = lesson_index\n",
    "            chapter_index = chapter_index + 1\n",
    "            lesson_index = 0\n",
    "            for lesson in chapter['lessons']:\n",
    "                if 'type' in lesson and lesson['type'] == 'exam':\n",
    "                    lesson_index = lesson_index + 1\n",
    "                    lessons.append((chapter['id'],lesson['id'], chapter_index, lesson_index))\n",
    "    details[chapter_index] = lesson_index\n",
    "    ret_lessons = []\n",
    "    completion = 0\n",
    "    for lesson in lessons:\n",
    "        completion += 1/lessons[-1][2] * 1/details[lesson[2]]\n",
    "        ret_lessons.append((lesson[0], lesson[1], completion, lesson[3]/details[lesson[2]]))\n",
    "    return ret_lessons"
   ]
  },
  {
   "cell_type": "code",
   "execution_count": 7,
   "metadata": {},
   "outputs": [],
   "source": [
    "def random_dates(start, end, n=10):\n",
    "    start_u = start.value//10**9\n",
    "    end_u = end.value//10**9\n",
    "\n",
    "    return pd.to_datetime(np.random.randint(start_u, end_u, n), unit='s').sort_values()"
   ]
  },
  {
   "cell_type": "code",
   "execution_count": 8,
   "metadata": {},
   "outputs": [],
   "source": [
    "def random_scores(user_id, subject, lessons):\n",
    "    n_scores = random.randint(50, len(lessons))\n",
    "    random_lessons = random.sample(range(len(lessons)), k=n_scores)\n",
    "    random_lessons.sort()\n",
    "    scores = pd.DataFrame({\"user_id\" : [user_id]*n_scores})\n",
    "    scores[\"subject\"] = [subject]*n_scores\n",
    "    scores[\"chapter\"] = [i[0] for i in lessons[:n_scores]]\n",
    "    scores[\"course_completion_percentage\"] = [i[2] for i in lessons[:n_scores]]\n",
    "    scores[\"lesson\"] = [i[1] for i in lessons[:n_scores]]\n",
    "    scores[\"chapter_completion_percentage\"] = [i[3] for i in lessons[:n_scores]]\n",
    "    scores[\"score\"] = random.choices(np.arange(70, 100, 1), k=n_scores)\n",
    "    scores[\"datetime\"] = random_dates(start, end, n=n_scores)\n",
    "    return scores"
   ]
  },
  {
   "cell_type": "code",
   "execution_count": 9,
   "metadata": {},
   "outputs": [],
   "source": [
    "subjects = {\n",
    "    'en': get_lessons('en'),\n",
    "    'maths': get_lessons('maths')\n",
    "}"
   ]
  },
  {
   "cell_type": "code",
   "execution_count": 13,
   "metadata": {},
   "outputs": [
    {
     "data": {
      "text/plain": [
       "70"
      ]
     },
     "execution_count": 13,
     "metadata": {},
     "output_type": "execute_result"
    }
   ],
   "source": [
    "len(subjects['en'])"
   ]
  },
  {
   "cell_type": "code",
   "execution_count": 40,
   "metadata": {},
   "outputs": [],
   "source": [
    "df = None\n",
    "for row in users.itertuples():\n",
    "    for subject in subjects.items():\n",
    "        if df is None:\n",
    "            df = random_scores(row[1], subject[0], subject[1])\n",
    "        else:\n",
    "            df = pd.concat([df, random_scores(row[1], subject[0], subject[1])])"
   ]
  },
  {
   "cell_type": "code",
   "execution_count": 41,
   "metadata": {},
   "outputs": [
    {
     "data": {
      "text/html": [
       "<div>\n",
       "<style scoped>\n",
       "    .dataframe tbody tr th:only-of-type {\n",
       "        vertical-align: middle;\n",
       "    }\n",
       "\n",
       "    .dataframe tbody tr th {\n",
       "        vertical-align: top;\n",
       "    }\n",
       "\n",
       "    .dataframe thead th {\n",
       "        text-align: right;\n",
       "    }\n",
       "</style>\n",
       "<table border=\"1\" class=\"dataframe\">\n",
       "  <thead>\n",
       "    <tr style=\"text-align: right;\">\n",
       "      <th></th>\n",
       "      <th>user_id</th>\n",
       "      <th>subject</th>\n",
       "      <th>chapter</th>\n",
       "      <th>course_completion_percentage</th>\n",
       "      <th>lesson</th>\n",
       "      <th>chapter_completion_percentage</th>\n",
       "      <th>score</th>\n",
       "      <th>datetime</th>\n",
       "    </tr>\n",
       "  </thead>\n",
       "  <tbody>\n",
       "    <tr>\n",
       "      <th>0</th>\n",
       "      <td>1000</td>\n",
       "      <td>en</td>\n",
       "      <td>en00</td>\n",
       "      <td>0.016129</td>\n",
       "      <td>ambulance</td>\n",
       "      <td>0.5</td>\n",
       "      <td>87</td>\n",
       "      <td>2020-12-01 11:01:21</td>\n",
       "    </tr>\n",
       "    <tr>\n",
       "      <th>1</th>\n",
       "      <td>1000</td>\n",
       "      <td>en</td>\n",
       "      <td>en00</td>\n",
       "      <td>0.032258</td>\n",
       "      <td>anchor</td>\n",
       "      <td>1.0</td>\n",
       "      <td>85</td>\n",
       "      <td>2020-12-01 11:43:56</td>\n",
       "    </tr>\n",
       "    <tr>\n",
       "      <th>2</th>\n",
       "      <td>1000</td>\n",
       "      <td>en</td>\n",
       "      <td>en01</td>\n",
       "      <td>0.048387</td>\n",
       "      <td>auto</td>\n",
       "      <td>0.5</td>\n",
       "      <td>90</td>\n",
       "      <td>2020-12-01 17:01:05</td>\n",
       "    </tr>\n",
       "    <tr>\n",
       "      <th>3</th>\n",
       "      <td>1000</td>\n",
       "      <td>en</td>\n",
       "      <td>en01</td>\n",
       "      <td>0.064516</td>\n",
       "      <td>pram</td>\n",
       "      <td>1.0</td>\n",
       "      <td>78</td>\n",
       "      <td>2020-12-02 06:38:38</td>\n",
       "    </tr>\n",
       "    <tr>\n",
       "      <th>4</th>\n",
       "      <td>1000</td>\n",
       "      <td>en</td>\n",
       "      <td>en02</td>\n",
       "      <td>0.080645</td>\n",
       "      <td>bag</td>\n",
       "      <td>0.5</td>\n",
       "      <td>77</td>\n",
       "      <td>2020-12-02 06:57:37</td>\n",
       "    </tr>\n",
       "  </tbody>\n",
       "</table>\n",
       "</div>"
      ],
      "text/plain": [
       "   user_id subject chapter  course_completion_percentage     lesson  \\\n",
       "0     1000      en    en00                      0.016129  ambulance   \n",
       "1     1000      en    en00                      0.032258     anchor   \n",
       "2     1000      en    en01                      0.048387       auto   \n",
       "3     1000      en    en01                      0.064516       pram   \n",
       "4     1000      en    en02                      0.080645        bag   \n",
       "\n",
       "   chapter_completion_percentage  score            datetime  \n",
       "0                            0.5     87 2020-12-01 11:01:21  \n",
       "1                            1.0     85 2020-12-01 11:43:56  \n",
       "2                            0.5     90 2020-12-01 17:01:05  \n",
       "3                            1.0     78 2020-12-02 06:38:38  \n",
       "4                            0.5     77 2020-12-02 06:57:37  "
      ]
     },
     "execution_count": 41,
     "metadata": {},
     "output_type": "execute_result"
    }
   ],
   "source": [
    "df.head()"
   ]
  },
  {
   "cell_type": "code",
   "execution_count": 42,
   "metadata": {},
   "outputs": [],
   "source": [
    "df.to_csv('scores.csv')"
   ]
  }
 ],
 "metadata": {
  "kernelspec": {
   "display_name": "'Python Interactive'",
   "language": "python",
   "name": "60c86c93-4195-4177-884d-93b259dfcad3"
  },
  "language_info": {
   "codemirror_mode": {
    "name": "ipython",
    "version": 3
   },
   "file_extension": ".py",
   "mimetype": "text/x-python",
   "name": "python",
   "nbconvert_exporter": "python",
   "pygments_lexer": "ipython3",
   "version": "3.7.7"
  }
 },
 "nbformat": 4,
 "nbformat_minor": 4
}
